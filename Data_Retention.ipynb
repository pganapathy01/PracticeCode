{
 "cells": [
  {
   "cell_type": "raw",
   "metadata": {},
   "source": [
    "# This is a simple code"
   ]
  },
  {
   "cell_type": "code",
   "execution_count": null,
   "metadata": {
    "collapsed": true
   },
   "outputs": [],
   "source": [
    "__author__ = 'Priya Ganapathy'\n",
    "import pandas as pd\n",
    "import numpy as np\n",
    "import os\n",
    "import matplotlib.pyplot as plt\n",
    "plt.close(\"all\")\n"
   ]
  },
  {
   "cell_type": "raw",
   "metadata": {},
   "source": [
    "# I am adding a markdown cell here"
   ]
  },
  {
   "cell_type": "code",
   "execution_count": null,
   "metadata": {
    "collapsed": true
   },
   "outputs": [],
   "source": [
    "main_path = 'C:\\Users\\Priya\\PycharmProjects\\CLEAN AMT SUBJECT FILES\\CLEAN AMT SUBJECT FILES'\n",
    "print(main_path)\n",
    "direct_names = ['\\VACR 3D ITS DBN Retention Data','\\VACR 3D PTS Level 1 Retention Data','\\VACR 3D PTS Level 2 Retention Data']\n",
    "plt.figure(1)\n",
    "direct_number = -1"
   ]
  },
  {
   "cell_type": "code",
   "execution_count": null,
   "metadata": {
    "collapsed": false
   },
   "outputs": [],
   "source": [
    "for directory_number in direct_names:\n",
    "    direct_number = direct_number+1\n",
    "    full_path = main_path+directory_number\n",
    "    directory_path = os.listdir(full_path)\n",
    "    print(directory_path)\n",
    "    print(directory_number)\n",
    "    subject_number =0\n",
    "    for text_file_name in directory_path:\n",
    "        check_extension = text_file_name.split('.')\n",
    "        print(check_extension)\n",
    "        if check_extension[1]!='txt':\n",
    "            pass\n",
    "        else:\n",
    "            add_string = \"\\\\\"\n",
    "            full_path1 =full_path + add_string\n",
    "            print(full_path1+text_file_name)\n",
    "            p= np.genfromtxt((full_path1+text_file_name),dtype='str')\n",
    "            print(full_path1+text_file_name)\n",
    "            print(text_file_name)\n",
    "            rounds =['1','2','3']\n",
    "            if np.size(p,axis=1)==23:\n",
    "                print('yes')\n",
    "                p_small = p[:,3:11]# interested columns are selected here\n",
    "                p_small_mean =dict()\n",
    "                Accuracy_Column =7\n",
    "            else:\n",
    "                print('yes')\n",
    "                p_small = p[:,2:10]# interested columns are selected here\n",
    "                p_small_mean =dict()\n",
    "                Accuracy_Column =7\n",
    "\n",
    "            for round_number in rounds:\n",
    "                print(round_number)\n",
    "                p_small_new =[]\n",
    "                mean_accuracy =[]\n",
    "                new_array =[]\n",
    "                p_small_new = p_small[p_small[:,0]==round_number]\n",
    "                #print(p_small_new)\n",
    "                new_array = p_small_new[:,Accuracy_Column]\n",
    "                print(new_array)\n",
    "                new_array = [int(i) for i in new_array]\n",
    "                print((new_array))\n",
    "                print(np.mean(new_array))\n",
    "                p_small_mean[round_number]= np.mean(new_array)\n",
    "                p_small_mean[\"subject_number\"]=subject_number\n",
    "                p_small_mean[\"Directory_number\"] =direct_number\n",
    "                subject_number =subject_number +1\n",
    "                print(p_small_mean)\n",
    "\n",
    "            y_array =[p_small_mean['1'],p_small_mean['2'],p_small_mean['3']]\n",
    "            x_array = ['1','2','3']\n",
    "            plt.scatter(x_array,y_array)\n",
    "            plt.show()\n",
    "            print(subject_number)          \n",
    "            \n",
    "            \n",
    "        "
   ]
  },
  {
   "cell_type": "code",
   "execution_count": null,
   "metadata": {
    "collapsed": true
   },
   "outputs": [],
   "source": [
    "p_small_mean = p_small_mean[\"Directory_number:"
   ]
  },
  {
   "cell_type": "code",
   "execution_count": null,
   "metadata": {
    "collapsed": true
   },
   "outputs": [],
   "source": []
  }
 ],
 "metadata": {
  "kernelspec": {
   "display_name": "Python 2",
   "language": "python",
   "name": "python2"
  },
  "language_info": {
   "codemirror_mode": {
    "name": "ipython",
    "version": 2
   },
   "file_extension": ".py",
   "mimetype": "text/x-python",
   "name": "python",
   "nbconvert_exporter": "python",
   "pygments_lexer": "ipython2",
   "version": "2.7.9"
  }
 },
 "nbformat": 4,
 "nbformat_minor": 0
}
